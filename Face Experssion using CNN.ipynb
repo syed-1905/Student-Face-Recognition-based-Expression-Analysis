{
 "cells": [
  {
   "cell_type": "code",
   "execution_count": null,
   "id": "62899479",
   "metadata": {},
   "outputs": [],
   "source": [
    "import os\n",
    "import numpy as np\n",
    "import cv2\n",
    "from sklearn.model_selection import train_test_split\n",
    "from tensorflow.keras.utils import to_categorical\n",
    "import tensorflow as tf\n",
    "from tensorflow.keras.models import Sequential\n",
    "from tensorflow.keras.layers import Conv2D, MaxPooling2D, Flatten, Dense\n",
    "from tensorflow.keras.optimizers import Adam"
   ]
  },
  {
   "cell_type": "code",
   "execution_count": null,
   "id": "494f80d4",
   "metadata": {},
   "outputs": [],
   "source": [
    "print(\"TensorFlow version:\", tf.__version__)"
   ]
  },
  {
   "cell_type": "code",
   "execution_count": null,
   "id": "a12b71c3",
   "metadata": {},
   "outputs": [],
   "source": [
    "# Function to load images and labels from a directory\n",
    "def load_images_from_directory(directory):\n",
    "    images = []\n",
    "    labels = []\n",
    "    label_map = {'angry': 0, 'disgust': 1, 'fear': 2, 'happy': 3, 'sad': 4, 'surprise': 5, 'neutral': 6}\n",
    "    for label in label_map:\n",
    "        label_directory = os.path.join(directory, label)\n",
    "        for filename in os.listdir(label_directory):\n",
    "            img_path = os.path.join(label_directory, filename)\n",
    "            img = cv2.imread(img_path, cv2.IMREAD_GRAYSCALE)\n",
    "            if img is not None:\n",
    "                img = cv2.resize(img, (48, 48))\n",
    "                images.append(img)\n",
    "                labels.append(label_map[label])\n",
    "    return np.array(images), np.array(labels)"
   ]
  },
  {
   "cell_type": "code",
   "execution_count": null,
   "id": "d1f98a78",
   "metadata": {},
   "outputs": [],
   "source": [
    "# Load images and labels from the train and test directories\n",
    "train_directory = \"FacialExpression/train\"\n",
    "test_directory = \"FacialExpression/test\"\n",
    "X_train, y_train = load_images_from_directory(train_directory)\n",
    "X_test, y_test = load_images_from_directory(test_directory)\n",
    "\n",
    "# Split the dataset into train, validation, and test sets\n",
    "X_train, X_val, y_train, y_val = train_test_split(X_train, y_train, test_size=0.1, random_state=42)\n",
    "\n",
    "# Preprocess the   \n",
    "X_train = X_train.reshape((-1, 48, 48, 1)) / 255.0\n",
    "X_val = X_val.reshape((-1, 48, 48, 1)) / 255.0\n",
    "X_test = X_test.reshape((-1, 48, 48, 1)) / 255.0\n",
    "y_train = to_categorical(y_train, num_classes=7)\n",
    "y_val = to_categorical(y_val, num_classes=7)\n",
    "y_test = to_categorical(y_test, num_classes=7)\n",
    "\n"
   ]
  },
  {
   "cell_type": "code",
   "execution_count": null,
   "id": "c5cb934c",
   "metadata": {},
   "outputs": [],
   "source": [
    "# Define the CNN model\n",
    "model = Sequential([\n",
    "    Conv2D(32, (3, 3), activation='relu', input_shape=(48, 48, 1)),\n",
    "    MaxPooling2D((2, 2)),\n",
    "    Conv2D(64, (3, 3), activation='relu'),\n",
    "    MaxPooling2D((2, 2)),\n",
    "    Conv2D(128, (3, 3), activation='relu'),\n",
    "    MaxPooling2D((2, 2)),\n",
    "    Flatten(),\n",
    "    Dense(128, activation='relu'),\n",
    "    Dense(7, activation='softmax') \n",
    "])\n"
   ]
  },
  {
   "cell_type": "code",
   "execution_count": null,
   "id": "af2a3e28",
   "metadata": {},
   "outputs": [],
   "source": [
    "# Compile the model\n",
    "\n",
    "model.compile(optimizer=Adam(),\n",
    "              loss='categorical_crossentropy',\n",
    "              metrics=['accuracy'])"
   ]
  },
  {
   "cell_type": "code",
   "execution_count": null,
   "id": "4c9146fd",
   "metadata": {},
   "outputs": [],
   "source": [
    "# Train the model\n",
    "history = model.fit(X_train, y_train, epochs=10, batch_size=32, validation_data=(X_val, y_val))\n",
    "\n"
   ]
  },
  {
   "cell_type": "code",
   "execution_count": null,
   "id": "09b78df6",
   "metadata": {},
   "outputs": [],
   "source": [
    "model.save(\"facial_expression_model.h5\")"
   ]
  },
  {
   "cell_type": "code",
   "execution_count": null,
   "id": "7e250806",
   "metadata": {},
   "outputs": [],
   "source": [
    "model = tf.keras.models.load_model('facial_expression_model.h5')"
   ]
  },
  {
   "cell_type": "code",
   "execution_count": null,
   "id": "4be7e3c3",
   "metadata": {},
   "outputs": [],
   "source": [
    "def resize(img, size):\n",
    "    width = int(img.shape[1] * size)\n",
    "    height = int(img.shape[0] * size)\n",
    "    dimension = (width, height)\n",
    "    return cv2.resize(img, dimension, interpolation=cv2.INTER_AREA)"
   ]
  },
  {
   "cell_type": "code",
   "execution_count": null,
   "id": "cd49c265",
   "metadata": {},
   "outputs": [],
   "source": [
    "# Function to find face encodings for recognition\n",
    "def findEncoding(images):\n",
    "    imgEncodings = []\n",
    "    for img in images:\n",
    "        img = cv2.resize(img, (0, 0), fx=0.5, fy=0.5)\n",
    "        img = cv2.cvtColor(img, cv2.COLOR_BGR2RGB)\n",
    "        encodeimg = face_recognition.face_encodings(img)[0]  # Corrected the function name\n",
    "        imgEncodings.append(encodeimg)\n",
    "    return imgEncodings\n"
   ]
  }
 ],
 "metadata": {
  "kernelspec": {
   "display_name": "Python 3 (ipykernel)",
   "language": "python",
   "name": "python3"
  },
  "language_info": {
   "codemirror_mode": {
    "name": "ipython",
    "version": 3
   },
   "file_extension": ".py",
   "mimetype": "text/x-python",
   "name": "python",
   "nbconvert_exporter": "python",
   "pygments_lexer": "ipython3",
   "version": "3.11.5"
  }
 },
 "nbformat": 4,
 "nbformat_minor": 5
}
